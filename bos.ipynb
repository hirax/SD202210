{
 "cells": [
  {
   "cell_type": "code",
   "execution_count": null,
   "metadata": {},
   "outputs": [],
   "source": [
    "\n",
    "import sys, os\n",
    "\n",
    "sys.path.insert(0, os.getcwd())"
   ]
  },
  {
   "cell_type": "code",
   "execution_count": null,
   "metadata": {},
   "outputs": [],
   "source": [
    "from uikit.ui_uiview import *\n",
    "from avfoundation import take_movie_extended_editted as tm\n",
    "import time, cv2\n",
    "\n",
    "ui_view = create_uiview_full(name = 'sample')\n",
    "\n",
    "def process_image(npimg):\n",
    "    global processed_frames\n",
    "    if len(tm.images)==0:\n",
    "        if tm.processed_frames > 10:\n",
    "            tm.images.append(npimg)\n",
    "    elif len(tm.images)==1:\n",
    "        tmp_img = cv2.absdiff(npimg, tm.images[0])\n",
    "        npimg[:,:] = 15*tmp_img[:, :]\n",
    "\n",
    "tm.video_shooting_setup( ui_view,\n",
    "    'AVCaptureDeviceTypeBuiltInTelephotoCamera',\n",
    "    'AVCaptureSessionPreset640x480',\n",
    "    process_image )"
   ]
  },
  {
   "cell_type": "code",
   "execution_count": null,
   "metadata": {},
   "outputs": [],
   "source": [
    "tm.images.clear(); tm.video_shooting_start(.3)\n",
    "time.sleep(20); tm.video_shooting_close(ui_view)"
   ]
  },
  {
   "cell_type": "code",
   "execution_count": null,
   "metadata": {},
   "outputs": [],
   "source": []
  }
 ],
 "metadata": {
  "kernelspec": {
   "display_name": "Python 3 (ipykernel)",
   "language": "python",
   "name": "python3"
  },
  "language_info": {
   "codemirror_mode": {
    "name": "ipython",
    "version": 3
   },
   "file_extension": ".py",
   "mimetype": "text/x-python",
   "name": "python",
   "nbconvert_exporter": "python",
   "pygments_lexer": "ipython3",
   "version": "3.7.4"
  }
 },
 "nbformat": 4,
 "nbformat_minor": 2
}
